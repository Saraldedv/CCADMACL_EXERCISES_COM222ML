{
  "nbformat": 4,
  "nbformat_minor": 0,
  "metadata": {
    "colab": {
      "provenance": [],
      "include_colab_link": true
    },
    "kernelspec": {
      "name": "python3",
      "display_name": "Python 3"
    },
    "language_info": {
      "name": "python"
    }
  },
  "cells": [
    {
      "cell_type": "markdown",
      "metadata": {
        "id": "view-in-github",
        "colab_type": "text"
      },
      "source": [
        "<a href=\"https://colab.research.google.com/github/Saraldedv/CCADMACL_EXERCISES_COM222ML/blob/main/SARALDE_Exercise1.ipynb\" target=\"_parent\"><img src=\"https://colab.research.google.com/assets/colab-badge.svg\" alt=\"Open In Colab\"/></a>"
      ]
    },
    {
      "cell_type": "markdown",
      "source": [
        "# Exercise 1\n",
        "\n",
        "Use all feature selection methods to find the best features"
      ],
      "metadata": {
        "id": "wyguhJBCREPq"
      }
    },
    {
      "cell_type": "markdown",
      "source": [
        "## Dataset Information\n",
        "\n",
        "## Features\n",
        "\n",
        "Number of Instances: 20640\n",
        "\n",
        "Number of Attributes: 8 numeric, predictive attributes and the target\n",
        "\n",
        "Attribute Information:\n",
        "\n",
        "MedInc - median income in block group\n",
        "\n",
        "HouseAge - median house age in block group\n",
        "\n",
        "AveRooms - average number of rooms per household\n",
        "\n",
        "AveBedrms - average number of bedrooms per household\n",
        "\n",
        "Population - block group population\n",
        "\n",
        "AveOccup - average number of household members\n",
        "\n",
        "Latitude - block group latitude\n",
        "\n",
        "Longitude - block group longitude\n",
        "\n",
        "## Target\n",
        "The target variable is the median house value for California districts, expressed in hundreds of thousands of dollars ($100,000)."
      ],
      "metadata": {
        "id": "W1nEzxdXQbpH"
      }
    },
    {
      "cell_type": "code",
      "execution_count": 69,
      "metadata": {
        "id": "ZAVjjtJ9PVED"
      },
      "outputs": [],
      "source": [
        "from sklearn.datasets import fetch_california_housing\n",
        "import pandas as pd"
      ]
    },
    {
      "cell_type": "code",
      "source": [
        "housing = fetch_california_housing(as_frame=True)\n",
        "df = pd.concat([housing.data, housing.target], axis=1)"
      ],
      "metadata": {
        "id": "N12mwL2GPX48"
      },
      "execution_count": 70,
      "outputs": []
    },
    {
      "cell_type": "markdown",
      "source": [
        "1. Use any filter method to select the best features"
      ],
      "metadata": {
        "id": "6tqvZqTtRgRe"
      }
    },
    {
      "cell_type": "code",
      "source": [
        "from sklearn.ensemble import RandomForestRegressor\n",
        "from sklearn.feature_selection import SelectKBest, f_regression\n",
        "\n",
        "threshold = 4\n",
        "\n",
        "skb = SelectKBest(score_func=f_regression, k=threshold)\n",
        "sel_skb = skb.fit(X_train, y_train)\n",
        "sel_skb_index = sel_skb.get_support()\n",
        "df_housing_skb = X_train.iloc[:, sel_skb_index]\n",
        "\n",
        "print('p_values:', sel_skb.pvalues_)\n",
        "print('Selected features:', df_housing_skb.columns)"
      ],
      "metadata": {
        "id": "K5DB6f6jRmUF",
        "colab": {
          "base_uri": "https://localhost:8080/"
        },
        "outputId": "f3c46699-1653-4d9c-b487-b9ac52166e24"
      },
      "execution_count": 71,
      "outputs": [
        {
          "output_type": "stream",
          "name": "stdout",
          "text": [
            "p_values: [0.00000000e+00 1.01919784e-40 2.47317844e-93 4.04532102e-11\n",
            " 8.21491618e-04 4.64088908e-03 3.82179752e-76 2.54505126e-09]\n",
            "Selected features: Index(['MedInc', 'HouseAge', 'AveRooms', 'Latitude'], dtype='object')\n"
          ]
        }
      ]
    },
    {
      "cell_type": "markdown",
      "source": [
        "2. Use any wrapper method to select the best features"
      ],
      "metadata": {
        "id": "eZ5kAdM7RpDD"
      }
    },
    {
      "cell_type": "code",
      "source": [
        "from sklearn.feature_selection import RFE\n",
        "from sklearn.ensemble import RandomForestRegressor\n",
        "\n",
        "model_rf = RandomForestRegressor(n_estimators=500, random_state=42, max_depth=3)\n",
        "\n",
        "threshold = 4\n",
        "selector = RFE(estimator=model_rf, n_features_to_select=threshold, step=1)\n",
        "\n",
        "selector = selector.fit(X_train, y_train)\n",
        "selector_ind = selector.get_support()\n",
        "\n",
        "df_housing_rfe = X_train.iloc[:, selector_ind]\n",
        "selected_features = df_housing_rfe.columns\n",
        "print(\"Selected features using RFE:\", list(selected_features))\n",
        "\n"
      ],
      "metadata": {
        "id": "h1godUPeRpTF",
        "colab": {
          "base_uri": "https://localhost:8080/"
        },
        "outputId": "8a673b05-d6bc-46bc-a24b-2770852ff5fe"
      },
      "execution_count": 72,
      "outputs": [
        {
          "output_type": "stream",
          "name": "stdout",
          "text": [
            "Selected features using RFE: ['MedInc', 'HouseAge', 'AveRooms', 'AveOccup']\n"
          ]
        }
      ]
    },
    {
      "cell_type": "markdown",
      "source": [
        "3. Use any embedded methood to select the best features"
      ],
      "metadata": {
        "id": "Kq82AZxvRvTe"
      }
    },
    {
      "cell_type": "code",
      "source": [
        "from sklearn.feature_selection import SelectFromModel\n",
        "from sklearn.ensemble import RandomForestRegressor\n",
        "\n",
        "model_rf = RandomForestRegressor(n_estimators=500, random_state=42, max_depth=3)\n",
        "model_rf.fit(X_train, y_train)\n",
        "\n",
        "sel_sfm = SelectFromModel(model_rf, prefit=True, threshold=\"mean\")\n",
        "sel_sfm_index = sel_sfm.get_support()\n",
        "\n",
        "df_housing_sfm = X_train.iloc[:, sel_sfm_index]\n",
        "selected_features = df_housing_sfm.columns\n",
        "print(\"Selected features using SelectFromModel:\", list(selected_features))\n"
      ],
      "metadata": {
        "id": "-S8OQahTRyTM",
        "colab": {
          "base_uri": "https://localhost:8080/"
        },
        "outputId": "246a1abe-0608-4654-816e-cf0e6ac122d3"
      },
      "execution_count": 73,
      "outputs": [
        {
          "output_type": "stream",
          "name": "stdout",
          "text": [
            "Selected features using SelectFromModel: ['MedInc', 'AveOccup']\n"
          ]
        }
      ]
    },
    {
      "cell_type": "markdown",
      "source": [
        "#MODEL COMPARISON"
      ],
      "metadata": {
        "id": "Q7HByNYdqhlR"
      }
    },
    {
      "cell_type": "code",
      "source": [
        "X_train_skb, X_test_skb, y_train_skb, y_test_skb = train_test_split(df_housing_skb, y_train, test_size=0.2, random_state=42)\n",
        "X_train_rfe, X_test_rfe, y_train_rfe, y_test_rfe = train_test_split(df_housing_rfe, y_train, test_size=0.2, random_state=42)\n",
        "X_train_sfm, X_test_sfm, y_train_sfm, y_test_sfm = train_test_split(df_housing_sfm, y_train, test_size=0.2, random_state=42)\n"
      ],
      "metadata": {
        "id": "Jk-Jo0Uz8FLR"
      },
      "execution_count": 74,
      "outputs": []
    },
    {
      "cell_type": "code",
      "source": [
        "default_preds = model_default.predict(X_test)\n",
        "skb_preds = model_skb.predict(X_test_skb)\n",
        "rfe_preds = model_rfe.predict(X_test_rfe)\n",
        "sfm_preds = model_sfm.predict(X_test_sfm)\n",
        "\n",
        "\n",
        "default_rmse = mean_squared_error(y_test, default_preds, squared=False)\n",
        "skb_rmse = mean_squared_error(y_test_skb, skb_preds, squared=False)\n",
        "rfe_rmse = mean_squared_error(y_test_rfe, rfe_preds, squared=False)\n",
        "sfm_rmse = mean_squared_error(y_test_sfm, sfm_preds, squared=False)"
      ],
      "metadata": {
        "colab": {
          "base_uri": "https://localhost:8080/"
        },
        "id": "TqJO1k_5vTS5",
        "outputId": "e6cb623b-9f49-4a71-f4ba-a8c025614c53"
      },
      "execution_count": 75,
      "outputs": [
        {
          "output_type": "stream",
          "name": "stderr",
          "text": [
            "/usr/local/lib/python3.10/dist-packages/sklearn/metrics/_regression.py:492: FutureWarning: 'squared' is deprecated in version 1.4 and will be removed in 1.6. To calculate the root mean squared error, use the function'root_mean_squared_error'.\n",
            "  warnings.warn(\n",
            "/usr/local/lib/python3.10/dist-packages/sklearn/metrics/_regression.py:492: FutureWarning: 'squared' is deprecated in version 1.4 and will be removed in 1.6. To calculate the root mean squared error, use the function'root_mean_squared_error'.\n",
            "  warnings.warn(\n",
            "/usr/local/lib/python3.10/dist-packages/sklearn/metrics/_regression.py:492: FutureWarning: 'squared' is deprecated in version 1.4 and will be removed in 1.6. To calculate the root mean squared error, use the function'root_mean_squared_error'.\n",
            "  warnings.warn(\n",
            "/usr/local/lib/python3.10/dist-packages/sklearn/metrics/_regression.py:492: FutureWarning: 'squared' is deprecated in version 1.4 and will be removed in 1.6. To calculate the root mean squared error, use the function'root_mean_squared_error'.\n",
            "  warnings.warn(\n"
          ]
        }
      ]
    },
    {
      "cell_type": "code",
      "source": [
        "print(f'Default RMSE: {default_rmse}')\n",
        "print(f'Filter RMSE: {skb_rmse}')\n",
        "print(f'Wrapper RMSE: {rfe_rmse}')\n",
        "print(f'Embedded RMSE: {sfm_rmse}')"
      ],
      "metadata": {
        "colab": {
          "base_uri": "https://localhost:8080/"
        },
        "id": "ZoLRA7aRvO4p",
        "outputId": "1481b2f4-898d-4c58-c60f-af9096284e16"
      },
      "execution_count": 76,
      "outputs": [
        {
          "output_type": "stream",
          "name": "stdout",
          "text": [
            "Default RMSE: 0.7750447841432082\n",
            "Filter RMSE: 0.8123176447175391\n",
            "Wrapper RMSE: 0.7760559025245356\n",
            "Embedded RMSE: 0.7841069967542479\n"
          ]
        }
      ]
    }
  ]
}