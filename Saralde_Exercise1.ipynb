{
  "nbformat": 4,
  "nbformat_minor": 0,
  "metadata": {
    "colab": {
      "provenance": [],
      "include_colab_link": true
    },
    "kernelspec": {
      "name": "python3",
      "display_name": "Python 3"
    },
    "language_info": {
      "name": "python"
    }
  },
  "cells": [
    {
      "cell_type": "markdown",
      "metadata": {
        "id": "view-in-github",
        "colab_type": "text"
      },
      "source": [
        "<a href=\"https://colab.research.google.com/github/Saraldedv/CCADMACL_EXERCISES_COM222ML/blob/main/Saralde_Exercise1.ipynb\" target=\"_parent\"><img src=\"https://colab.research.google.com/assets/colab-badge.svg\" alt=\"Open In Colab\"/></a>"
      ]
    },
    {
      "cell_type": "markdown",
      "source": [
        "# Exercise 1\n",
        "\n",
        "Use all feature selection methods to find the best features"
      ],
      "metadata": {
        "id": "wyguhJBCREPq"
      }
    },
    {
      "cell_type": "markdown",
      "source": [
        "## Dataset Information\n",
        "\n",
        "## Features\n",
        "\n",
        "Number of Instances: 20640\n",
        "\n",
        "Number of Attributes: 8 numeric, predictive attributes and the target\n",
        "\n",
        "Attribute Information:\n",
        "\n",
        "MedInc - median income in block group\n",
        "\n",
        "HouseAge - median house age in block group\n",
        "\n",
        "AveRooms - average number of rooms per household\n",
        "\n",
        "AveBedrms - average number of bedrooms per household\n",
        "\n",
        "Population - block group population\n",
        "\n",
        "AveOccup - average number of household members\n",
        "\n",
        "Latitude - block group latitude\n",
        "\n",
        "Longitude - block group longitude\n",
        "\n",
        "## Target\n",
        "The target variable is the median house value for California districts, expressed in hundreds of thousands of dollars ($100,000)."
      ],
      "metadata": {
        "id": "W1nEzxdXQbpH"
      }
    },
    {
      "cell_type": "code",
      "execution_count": 23,
      "metadata": {
        "id": "ZAVjjtJ9PVED"
      },
      "outputs": [],
      "source": [
        "from sklearn.datasets import fetch_california_housing\n",
        "import pandas as pd"
      ]
    },
    {
      "cell_type": "code",
      "source": [
        "housing = fetch_california_housing(as_frame=True)\n",
        "df = pd.concat([housing.data, housing.target], axis=1)"
      ],
      "metadata": {
        "id": "N12mwL2GPX48"
      },
      "execution_count": 24,
      "outputs": []
    },
    {
      "cell_type": "markdown",
      "source": [
        "1. Use any filter method to select the best features"
      ],
      "metadata": {
        "id": "6tqvZqTtRgRe"
      }
    },
    {
      "cell_type": "code",
      "source": [
        "from sklearn.ensemble import RandomForestRegressor\n",
        "from sklearn.feature_selection import SelectKBest, f_regression\n",
        "\n",
        "threshold = 4\n",
        "\n",
        "skb = SelectKBest(score_func=f_regression, k=threshold)\n",
        "sel_skb = skb.fit(X_train, y_train)\n",
        "sel_skb_index = sel_skb.get_support()\n",
        "df_housing_skb = X_train.iloc[:, sel_skb_index]\n",
        "\n",
        "print('p_values:', sel_skb.pvalues_)\n",
        "print('Selected features:', df_housing_skb.columns)"
      ],
      "metadata": {
        "id": "K5DB6f6jRmUF",
        "colab": {
          "base_uri": "https://localhost:8080/"
        },
        "outputId": "befad43a-8b23-43aa-d84a-eb091c47b674"
      },
      "execution_count": 44,
      "outputs": [
        {
          "output_type": "stream",
          "name": "stdout",
          "text": [
            "p_values: [0.00000000e+00 1.01919784e-40 2.47317844e-93 4.04532102e-11\n",
            " 8.21491618e-04 4.64088908e-03 3.82179752e-76 2.54505126e-09]\n",
            "Selected features: Index(['MedInc', 'HouseAge', 'AveRooms', 'Latitude'], dtype='object')\n"
          ]
        }
      ]
    },
    {
      "cell_type": "markdown",
      "source": [
        "2. Use any wrapper method to select the best features"
      ],
      "metadata": {
        "id": "eZ5kAdM7RpDD"
      }
    },
    {
      "cell_type": "code",
      "source": [
        "from sklearn.feature_selection import RFE\n",
        "from sklearn.ensemble import RandomForestRegressor\n",
        "\n",
        "model_rf = RandomForestRegressor(n_estimators=500, random_state=42, max_depth=3)\n",
        "\n",
        "threshold = 4\n",
        "selector = RFE(estimator=model_rf, n_features_to_select=threshold, step=1)\n",
        "\n",
        "selector = selector.fit(X_train, y_train)\n",
        "selector_ind = selector.get_support()\n",
        "\n",
        "df_housing_rfe = X_train.iloc[:, selector_ind]\n",
        "selected_features = df_housing_rfe.columns\n",
        "print(\"Selected features using RFE:\", list(selected_features))\n",
        "\n"
      ],
      "metadata": {
        "id": "h1godUPeRpTF",
        "colab": {
          "base_uri": "https://localhost:8080/"
        },
        "outputId": "2248507a-e8a7-464f-e166-b8633f9a6b54"
      },
      "execution_count": 46,
      "outputs": [
        {
          "output_type": "stream",
          "name": "stdout",
          "text": [
            "Selected features using RFE: ['MedInc', 'HouseAge', 'AveRooms', 'AveOccup']\n"
          ]
        }
      ]
    },
    {
      "cell_type": "markdown",
      "source": [
        "3. Use any embedded methood to select the best features"
      ],
      "metadata": {
        "id": "Kq82AZxvRvTe"
      }
    },
    {
      "cell_type": "code",
      "source": [
        "from sklearn.feature_selection import SelectFromModel\n",
        "from sklearn.ensemble import RandomForestRegressor\n",
        "\n",
        "model_rf = RandomForestRegressor(n_estimators=500, random_state=42, max_depth=3)\n",
        "model_rf.fit(X_train, y_train)\n",
        "\n",
        "sel_sfm = SelectFromModel(model_rf, prefit=True, threshold=\"mean\")\n",
        "sel_sfm_index = sel_sfm.get_support()\n",
        "\n",
        "df_housing_sfm = X_train.iloc[:, sel_sfm_index]\n",
        "selected_features = df_housing_sfm.columns\n",
        "print(\"Selected features using SelectFromModel:\", list(selected_features))\n"
      ],
      "metadata": {
        "id": "-S8OQahTRyTM",
        "colab": {
          "base_uri": "https://localhost:8080/"
        },
        "outputId": "8a9be280-a3db-45e0-fad3-63d2cbe5417a"
      },
      "execution_count": 37,
      "outputs": [
        {
          "output_type": "stream",
          "name": "stdout",
          "text": [
            "Selected features using SelectFromModel: ['MedInc', 'AveOccup']\n"
          ]
        }
      ]
    },
    {
      "cell_type": "markdown",
      "source": [
        "#MODEL COMPARISON"
      ],
      "metadata": {
        "id": "Q7HByNYdqhlR"
      }
    },
    {
      "cell_type": "code",
      "source": [
        "default_preds = model_default.predict(X_test)\n",
        "skb_preds = model_skb.predict(X_test_skb)\n",
        "rfe_preds = model_rfe.predict(X_test_rfe)\n",
        "sfm_preds = model_sfm.predict(X_test_sfm)\n",
        "\n",
        "\n",
        "default_rmse = mean_squared_error(y_test, default_preds, squared=False)\n",
        "skb_rmse = mean_squared_error(y_test_skb, skb_preds, squared=False)\n",
        "rfe_rmse = mean_squared_error(y_test_rfe, rfe_preds, squared=False)\n",
        "sfm_rmse = mean_squared_error(y_test_sfm, sfm_preds, squared=False)"
      ],
      "metadata": {
        "colab": {
          "base_uri": "https://localhost:8080/"
        },
        "id": "TqJO1k_5vTS5",
        "outputId": "48aa3416-ab3a-4e6d-81b4-b82a111b3f60"
      },
      "execution_count": 63,
      "outputs": [
        {
          "output_type": "stream",
          "name": "stderr",
          "text": [
            "/usr/local/lib/python3.10/dist-packages/sklearn/metrics/_regression.py:492: FutureWarning: 'squared' is deprecated in version 1.4 and will be removed in 1.6. To calculate the root mean squared error, use the function'root_mean_squared_error'.\n",
            "  warnings.warn(\n",
            "/usr/local/lib/python3.10/dist-packages/sklearn/metrics/_regression.py:492: FutureWarning: 'squared' is deprecated in version 1.4 and will be removed in 1.6. To calculate the root mean squared error, use the function'root_mean_squared_error'.\n",
            "  warnings.warn(\n",
            "/usr/local/lib/python3.10/dist-packages/sklearn/metrics/_regression.py:492: FutureWarning: 'squared' is deprecated in version 1.4 and will be removed in 1.6. To calculate the root mean squared error, use the function'root_mean_squared_error'.\n",
            "  warnings.warn(\n",
            "/usr/local/lib/python3.10/dist-packages/sklearn/metrics/_regression.py:492: FutureWarning: 'squared' is deprecated in version 1.4 and will be removed in 1.6. To calculate the root mean squared error, use the function'root_mean_squared_error'.\n",
            "  warnings.warn(\n"
          ]
        }
      ]
    },
    {
      "cell_type": "code",
      "source": [
        "print(f'Default RMSE: {default_rmse}')\n",
        "print(f'Filter RMSE: {skb_rmse}')\n",
        "print(f'Wrapper RMSE: {rfe_rmse}')\n",
        "print(f'Embedded RMSE: {sfm_rmse}')"
      ],
      "metadata": {
        "colab": {
          "base_uri": "https://localhost:8080/"
        },
        "id": "ZoLRA7aRvO4p",
        "outputId": "26523c7a-6ab1-4905-f839-9ab915584125"
      },
      "execution_count": 64,
      "outputs": [
        {
          "output_type": "stream",
          "name": "stdout",
          "text": [
            "Default RMSE: 0.7750447841432082\n",
            "Filter RMSE: 0.8123176447175391\n",
            "Wrapper RMSE: 0.7760559025245356\n",
            "Embedded RMSE: 0.7841069967542479\n"
          ]
        }
      ]
    }
  ]
}